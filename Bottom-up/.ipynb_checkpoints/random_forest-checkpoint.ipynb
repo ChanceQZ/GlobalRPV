{
 "cells": [
  {
   "cell_type": "code",
   "execution_count": 1,
   "metadata": {},
   "outputs": [],
   "source": [
    "import time\n",
    "import numpy as np\n",
    "import pandas as pd\n",
    "import joblib\n",
    "import matplotlib.pyplot as plt\n",
    "import seaborn as sns\n",
    "from tqdm.notebook import tqdm\n",
    "\n",
    "from sklearn.model_selection import train_test_split\n",
    "from sklearn.ensemble import RandomForestRegressor, RandomForestClassifier\n",
    "from sklearn.metrics import mean_absolute_error, mean_squared_error, r2_score #评价指标"
   ]
  },
  {
   "cell_type": "code",
   "execution_count": 2,
   "metadata": {},
   "outputs": [],
   "source": [
    "data_path = ''\n",
    "df = pd.read_csv(data_path)\n",
    "X = df.drop(columns=['area'])\n",
    "y = df[['area']]\n",
    "X_train, X_test, y_train, y_test = train_test_split(X, y, test_size=0.2, random_state=1212)"
   ]
  },
  {
   "cell_type": "code",
   "execution_count": 3,
   "metadata": {},
   "outputs": [],
   "source": [
    "human_features = ['build_c3s_MEAN', 'build_c3s_STD', 'Light_MEAN',\n",
    "                  'Light_STD', 'OSM_length', 'POP_MEAN','POP_STD']\n",
    "natural_features = ['DEM_MEAN', 'DEM_STD', 'Slope_MEAN', \n",
    "                   'Slope_STD', 'tree_c3s_MEAN', 'tree_c3s_STD']\n",
    "features_x_lonlat = ['build_c3s_MEAN', 'build_c3s_STD', 'DEM_MEAN', 'DEM_STD', \n",
    "                     'Light_MEAN', 'Light_STD', 'OSM_length', 'POP_MEAN',\n",
    "                     'POP_STD', 'Slope_MEAN', 'Slope_STD', 'tree_c3s_MEAN', 'tree_c3s_STD']"
   ]
  },
  {
   "cell_type": "markdown",
   "metadata": {},
   "source": [
    "# Training"
   ]
  },
  {
   "cell_type": "code",
   "execution_count": 4,
   "metadata": {},
   "outputs": [],
   "source": [
    "def train_rf_regressor(X_train, y_train, save_path):\n",
    "    start_time = time.time()\n",
    "    rf_regressor = RandomForestRegressor(\n",
    "        max_depth=50, min_samples_leaf=5, min_samples_split=10, \n",
    "        n_estimators=500, n_jobs=-1, random_state=1212\n",
    "    )\n",
    "    rf_regressor.fit(X_train, y_train.values.ravel())\n",
    "    joblib.dump(rf_regressor, save_path)\n",
    "    \n",
    "def train_rf_classifier(X_train, y_train, save_path):\n",
    "    start_time = time.time()\n",
    "    rf_classifier = RandomForestClassifier(\n",
    "        max_depth=50, min_samples_leaf=5, min_samples_split=10, \n",
    "        n_estimators=500, n_jobs=-1, random_state=1212\n",
    "    )\n",
    "    rf_classifier.fit(X_train, y_train.values.ravel())\n",
    "    joblib.dump(rf_classifier, save_path)"
   ]
  },
  {
   "cell_type": "code",
   "execution_count": 6,
   "metadata": {},
   "outputs": [],
   "source": [
    "#### Naive random forest (human features)\n",
    "train_rf_regressor(X_train[human_features], y_train, '')\n",
    "#### Naive random forest (natural features)\n",
    "train_rf_regressor(X_train[natural_features], y_train, '')\n",
    "#### Naive random forest (features without xy)\n",
    "train_rf_regressor(X_train[features_x_lonlat], y_train, '')"
   ]
  },
  {
   "cell_type": "code",
   "execution_count": 7,
   "metadata": {},
   "outputs": [],
   "source": [
    "#### Naive random forest\n",
    "X_train_ = X_train.drop(columns=['CONTINENT'])\n",
    "train_rf_regressor(X_train_, y_train, '')\n",
    "#### Classification & regression\n",
    "reg_X_train, reg_y_train = X_train_[y_train['area'] > 0], y_train[y_train['area'] > 0]\n",
    "cls_X_train, cls_y_train = X_train_, y_train['area'].apply(lambda x: int(x!=0))\n",
    "\n",
    "train_rf_classifier(cls_X_train, cls_y_train, '')\n",
    "train_rf_regressor(reg_X_train, reg_y_train, '')"
   ]
  },
  {
   "cell_type": "code",
   "execution_count": 8,
   "metadata": {},
   "outputs": [
    {
     "data": {
      "application/vnd.jupyter.widget-view+json": {
       "model_id": "3a04f91c43e24fbf83cea77012f9be63",
       "version_major": 2,
       "version_minor": 0
      },
      "text/plain": [
       "  0%|          | 0/6 [00:00<?, ?it/s]"
      ]
     },
     "metadata": {},
     "output_type": "display_data"
    }
   ],
   "source": [
    "#### Partition\n",
    "for cont in tqdm(['Europe', 'North America', 'Asia', 'Africa', 'South America', 'Oceania']):\n",
    "    X_train_ = X_train[X_train['CONTINENT'] == cont].drop(columns=['CONTINENT'])\n",
    "    y_train_ = y_train[X_train['CONTINENT'] == cont]\n",
    "\n",
    "    reg_X_train, reg_y_train = X_train_[y_train_['area'] > 0], y_train_[y_train_['area'] > 0]\n",
    "    cls_X_train, cls_y_train = X_train_, y_train_['area'].apply(lambda x: int(x!=0))\n",
    "    \n",
    "    train_rf_regressor(X_train_, y_train_, '')\n",
    "    train_rf_classifier(cls_X_train, cls_y_train, '')\n",
    "    train_rf_regressor(reg_X_train, reg_y_train, '')"
   ]
  }
 ],
 "metadata": {
  "kernelspec": {
   "display_name": "CarbonNeutral",
   "language": "python",
   "name": "carbonneutral"
  },
  "language_info": {
   "codemirror_mode": {
    "name": "ipython",
    "version": 3
   },
   "file_extension": ".py",
   "mimetype": "text/x-python",
   "name": "python",
   "nbconvert_exporter": "python",
   "pygments_lexer": "ipython3",
   "version": "3.8.13"
  }
 },
 "nbformat": 4,
 "nbformat_minor": 4
}
