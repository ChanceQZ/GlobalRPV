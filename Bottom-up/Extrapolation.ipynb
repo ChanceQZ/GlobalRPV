{
 "cells": [
  {
   "cell_type": "code",
   "execution_count": 1,
   "metadata": {},
   "outputs": [],
   "source": [
    "import time\n",
    "import numpy as np\n",
    "import pandas as pd\n",
    "import joblib\n",
    "import matplotlib.pyplot as plt\n",
    "import seaborn as sns\n",
    "from tqdm.notebook import tqdm\n",
    "from sklearn.ensemble import RandomForestRegressor, RandomForestClassifier"
   ]
  },
  {
   "cell_type": "code",
   "execution_count": 2,
   "metadata": {},
   "outputs": [],
   "source": [
    "data_path = ''\n",
    "df = pd.read_csv(data_path)"
   ]
  },
  {
   "cell_type": "code",
   "execution_count": 3,
   "metadata": {},
   "outputs": [
    {
     "data": {
      "application/vnd.jupyter.widget-view+json": {
       "model_id": "50c357ffb9b14e00a765650d54fe8cca",
       "version_major": 2,
       "version_minor": 0
      },
      "text/plain": [
       "  0%|          | 0/6 [00:00<?, ?it/s]"
      ]
     },
     "metadata": {},
     "output_type": "display_data"
    }
   ],
   "source": [
    "states = ['Europe', 'North America', 'Asia', 'Africa', 'South America', 'Oceania']\n",
    "naive_dict, regressor_dict, classifier_dict = {}, {}, {}\n",
    "for state in tqdm(states):\n",
    "    naive_dict[state] = joblib.load('')\n",
    "    regressor_dict[state] = joblib.load('')\n",
    "    classifier_dict[state] = joblib.load('')"
   ]
  },
  {
   "cell_type": "code",
   "execution_count": 4,
   "metadata": {},
   "outputs": [],
   "source": [
    "naive = joblib.load('')\n",
    "classifer = joblib.load('')\n",
    "regressor = joblib.load('')"
   ]
  },
  {
   "cell_type": "code",
   "execution_count": null,
   "metadata": {},
   "outputs": [],
   "source": [
    "naive_rf_pred = naive.predict(df.drop(columns=['CONTINENT']))\n",
    "classifer_pred = classifer.predict(df.drop(columns=['CONTINENT']))\n",
    "regressor_pred = regressor.predict(df.drop(columns=['CONTINENT']))"
   ]
  },
  {
   "cell_type": "code",
   "execution_count": null,
   "metadata": {},
   "outputs": [],
   "source": [
    "pred = np.where(classifer_pred==0, 0, (regressor_pred + naive_rf_pred) / 2)\n",
    "df['pred_non_partition'] = pred"
   ]
  },
  {
   "cell_type": "code",
   "execution_count": null,
   "metadata": {},
   "outputs": [],
   "source": [
    "df_list = []\n",
    "for state in tqdm(states):\n",
    "    df_state = df[df['CONTINENT']==state]\n",
    "    \n",
    "    state_naive_pred = naive_dict[state].predict(df_state.drop(columns=['CONTINENT']))\n",
    "    state_classifier_pred = classifier_dict[state].predict(df_state.drop(columns=['CONTINENT']))\n",
    "    state_regressor_pred = regressor_dict[state].predict(df_state.drop(columns=['CONTINENT']))\n",
    "    \n",
    "    naive_pred = naive_rf.predict(df_state.drop(columns=['CONTINENT']))\n",
    "    classifer_pred = classifer.predict(df_state.drop(columns=['CONTINENT']))\n",
    "    regressor_pred = regressor.predict(df_state.drop(columns=['CONTINENT']))\n",
    "    \n",
    "    state_pred = np.where((classifer_pred==0) | (state_classifier_pred==0), 0,\n",
    "                          (regressor_pred+naive_pred+state_naive_pred+state_regressor_pred)/4)\n",
    "    df_state['pred_partition'] = state_pred\n",
    "    df_list.append(df_state)\n",
    "    \n",
    "df_state = df[df['CONTINENT'].isna()]\n",
    "\n",
    "naive_pred = naive_rf.predict(df_state.drop(columns=['CONTINENT']))\n",
    "classifer_pred = classifer.predict(df_state.drop(columns=['CONTINENT']))\n",
    "regressor_pred = regressor.predict(df_state.drop(columns=['CONTINENT']))\n",
    "\n",
    "state_pred = np.where(classifer_pred==0, 0, (regressor_pred+naive_pred)/2)\n",
    "df_state['pred_partition'] = state_pred\n",
    "df_list.append(df_state)"
   ]
  },
  {
   "cell_type": "code",
   "execution_count": null,
   "metadata": {},
   "outputs": [],
   "source": [
    "pd.concat(df_list).to_csv('', index=None)"
   ]
  },
  {
   "cell_type": "code",
   "execution_count": null,
   "metadata": {},
   "outputs": [],
   "source": []
  }
 ],
 "metadata": {
  "kernelspec": {
   "display_name": "CarbonNeutral",
   "language": "python",
   "name": "carbonneutral"
  },
  "language_info": {
   "codemirror_mode": {
    "name": "ipython",
    "version": 3
   },
   "file_extension": ".py",
   "mimetype": "text/x-python",
   "name": "python",
   "nbconvert_exporter": "python",
   "pygments_lexer": "ipython3",
   "version": "3.8.13"
  }
 },
 "nbformat": 4,
 "nbformat_minor": 4
}
